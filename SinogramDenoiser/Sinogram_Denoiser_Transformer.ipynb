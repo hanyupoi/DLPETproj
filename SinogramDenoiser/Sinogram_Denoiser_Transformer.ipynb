{
 "cells": [
  {
   "cell_type": "markdown",
   "metadata": {},
   "source": [
    "# Sinogram Denoiser (Sinusoidal Patching) Using PET-Brainweb Images"
   ]
  },
  {
   "cell_type": "code",
   "execution_count": 1,
   "metadata": {},
   "outputs": [
    {
     "name": "stdout",
     "output_type": "stream",
     "text": [
      "True\n",
      "1\n",
      "NVIDIA GeForce RTX 4070 SUPER\n",
      "2.4.1+cu124\n"
     ]
    }
   ],
   "source": [
    "# to find and check the hardware(GPU) situatuion, if you have no available GPUs, please no worries. This neural netwaork can run via CPU.\n",
    "import torch\n",
    "print(torch.cuda.is_available())  # to find available GPUs\n",
    "print(torch.cuda.device_count()) # to count the number of GPUs\n",
    "print(torch.cuda.get_device_name(0))  # To get name of the first available GPU\n",
    "print(torch.__version__)"
   ]
  },
  {
   "cell_type": "code",
   "execution_count": 2,
   "metadata": {},
   "outputs": [],
   "source": [
    "import os\n",
    "\n",
    "original_path = os.environ.get(\"PATH\")\n",
    "custom_path = r\"C:\\Users\\47348\\anaconda3\\envs\\reconstruction\\Library\\bin\"\n",
    "os.environ[\"PATH\"] = f\"{custom_path};{original_path}\"\n",
    "# os.environ['PARALLELPROJ_C_LIB'] = r\"C:\\Users\\47348\\anaconda3\\envs\\reconstruction\\Library\\bin\\parallelproj_c.dll\"\n",
    "# os.environ['PARALLELPROJ_CUDA_LIB'] = r\"C:\\Users\\47348\\anaconda3\\envs\\reconstruction\\Library\\bin\\parallelproj_cuda.dll\""
   ]
  },
  {
   "cell_type": "code",
   "execution_count": 3,
   "metadata": {
    "tags": []
   },
   "outputs": [
    {
     "name": "stdout",
     "output_type": "stream",
     "text": [
      "\n",
      "              -  -  -  -  -  -  -  -   -  -  -  -\n",
      "              P  A  R  A  L  L  E  L | P  R  O  J\n",
      "              -  -  -  -  -  -  -  -   -  -  -  -\n",
      "\n",
      "        =================================================\n",
      "\n",
      "             Please consider citing our publication\n",
      "          ---------------------------------------------\n",
      "          Georg Schramm and Kris Thielemans:\n",
      "          \"PARALLELPROJ—an open-source framework for\n",
      "           fast calculation of projections in\n",
      "           tomography\"\n",
      "          Front. Nucl. Med., 08 January 2024\n",
      "          Sec. PET and SPECT, Vol 3\n",
      "          https://doi.org/10.3389/fnume.2023.1324562\n",
      "\n",
      "        =================================================\n",
      " \n",
      "        parallelproj C    lib         ..: C:\\Users\\47348\\anaconda3\\envs\\reconstruction\\Library\\bin\\parallelproj_c.dll\n",
      "        parallelproj CUDA lib         ..: C:\\Users\\47348\\anaconda3\\envs\\reconstruction\\Library\\bin\\parallelproj_cuda.dll\n",
      "        parallelproj CUDA kernel file ..: C:\\Users\\47348\\anaconda3\\envs\\reconstruction\\Library\\lib\\projector_kernels.cu.1.10.0\n",
      "        parallelproj CUDA present     ..: True\n",
      "        parallelproj cupy enabled     ..: True\n",
      "        \n"
     ]
    }
   ],
   "source": [
    "import os\n",
    "from PIL import Image\n",
    "import numpy as np\n",
    "import matplotlib.pyplot as plt\n",
    "from einops import rearrange, repeat\n",
    "from einops.layers.torch import Rearrange\n",
    "import warnings\n",
    "warnings.filterwarnings('ignore')\n",
    "\n",
    "import odl\n",
    "import odlpet\n",
    "from odlpet.scanner.scanner import Scanner\n",
    "from odlpet.scanner.compression import Compression\n",
    "from odl.contrib.torch import OperatorModule\n",
    "from odl.contrib import fom\n",
    "\n",
    "\n",
    "import torch\n",
    "import torch.nn as nn\n",
    "from torch import optim\n",
    "from torchvision import transforms\n",
    "from torch.nn.parallel import DataParallel as DP\n",
    "from torch.utils.data import Dataset\n",
    "from torch.optim.lr_scheduler import StepLR\n",
    "torch.backends.cudnn.benchmark = True\n",
    "from torch.utils.data import DataLoader, TensorDataset\n",
    "\n",
    "\n",
    "import parallelproj\n",
    "from torchProjectionLayer import LinearSingleChannelOperator\n",
    "from torchProjectionLayer import AdjointLinearSingleChannelOperator\n",
    "from array_api_compat import to_device\n",
    "#from array_api_compat import device\n",
    "import array_api_compat.torch as xp\n",
    "\n",
    "#import parallelproj\n",
    "\n",
    "dev = torch.device('cuda' if torch.cuda.is_available() else 'cpu')\n",
    "torch.cuda.set_device(0) # modified"
   ]
  },
  {
   "cell_type": "code",
   "execution_count": 4,
   "metadata": {
    "tags": []
   },
   "outputs": [],
   "source": [
    "# Load the training noisy and noisefree sinograms\n",
    "sinograms_noisy = np.load(r'./PET_data/Train_npy/training_sinograms_noisy.npy')\n",
    "sinograms_noisefree = np.load(r'./PET_data/Train_npy/training_sinograms_noisefree.npy')\n",
    "\n",
    "# Convert the numpy arrays to PyTorch tensors\n",
    "sinograms_noisy = torch.tensor(sinograms_noisy, dtype=torch.float32)\n",
    "sinograms_noisefree = torch.tensor(sinograms_noisefree, dtype=torch.float32)\n",
    "\n",
    "# Create a custom dataset\n",
    "class SinogramDataset(Dataset):\n",
    "    def __init__(self, noisy, noisefree):\n",
    "        self.noisy = noisy\n",
    "        self.noisefree = noisefree\n",
    "\n",
    "    def __len__(self):\n",
    "        return self.noisy.shape[0]  # Total number of sinogram sets\n",
    "\n",
    "    def __getitem__(self, idx):\n",
    "        return self.noisy[idx], self.noisefree[idx]\n",
    "\n",
    "# Create a dataset and data loader with batch_size=1 (processing one sinogram set at a time)\n",
    "dataset = SinogramDataset(sinograms_noisy, sinograms_noisefree)\n",
    "dataloader = DataLoader(dataset, batch_size=1, shuffle=True)  # Use batch_size=1"
   ]
  },
  {
   "cell_type": "code",
   "execution_count": 5,
   "metadata": {
    "tags": []
   },
   "outputs": [],
   "source": [
    "num_rings = 35\n",
    "scanner = parallelproj.RegularPolygonPETScannerGeometry(\n",
    "    xp,\n",
    "    dev,\n",
    "    radius= 211/2 - 2,\n",
    "    num_sides=12,\n",
    "    num_lor_endpoints_per_side= 35,\n",
    "    lor_spacing= 211*np.pi/(35*12),\n",
    "    ring_positions=xp.linspace(-20, 20, num_rings),\n",
    "    #ring_positions=torch.linspace(-25, 25, num_rings),\n",
    "    symmetry_axis=1,\n",
    ")\n",
    "\n",
    "lor_desc = parallelproj.RegularPolygonPETLORDescriptor(\n",
    "    scanner,\n",
    "    radial_trim=155,\n",
    "    max_ring_difference=0,\n",
    "    sinogram_order=parallelproj.SinogramSpatialAxisOrder.RVP,\n",
    ")\n",
    "\n",
    "\n",
    "proj = parallelproj.RegularPolygonPETProjector(\n",
    "    lor_desc, img_shape=(220, num_rings, 220), voxel_size=(80/220, 40/num_rings, 80/220)\n",
    ")"
   ]
  },
  {
   "cell_type": "code",
   "execution_count": 6,
   "metadata": {},
   "outputs": [],
   "source": [
    "res_model = parallelproj.GaussianFilterOperator(\n",
    "    proj.in_shape, sigma=0.75 / (2.35 * proj.voxel_size)\n",
    ")"
   ]
  },
  {
   "cell_type": "code",
   "execution_count": 7,
   "metadata": {},
   "outputs": [],
   "source": [
    "import torch.nn.functional as F\n",
    "\n",
    "def get_indices(patch_size, s=0, dev='cuda'):\n",
    "    \n",
    "    image_shape = (220, 220)\n",
    "\n",
    "    num_patches_grid = (int(np.ceil(image_shape[0]/patch_size[0])), int(np.ceil(image_shape[1]/patch_size[1])))\n",
    "    images = np.zeros((num_patches_grid[0]*num_patches_grid[1], image_shape[0], image_shape[1]))\n",
    "    indices = []\n",
    "\n",
    "    num_patches = num_patches_grid[0]*num_patches_grid[1]\n",
    "    for k in range(num_patches):\n",
    "        i = k // num_patches_grid[1]\n",
    "        j = k % num_patches_grid[1]\n",
    "        images[k, i*patch_size[0]:(i+1)*patch_size[0], j*patch_size[1]:(j+1)*patch_size[1]] = 1\n",
    "        #plt.imshow(images[k])\n",
    "        data = proj(torch.tensor(images[k]).unsqueeze(1).repeat(1, 35, 1).to('cuda'))\n",
    "        index = (data[:,:,0].unsqueeze(0).unsqueeze(1) > s).nonzero()\n",
    "        indices.append(index)\n",
    "\n",
    "    lengths = [len(tensor) for tensor in indices]\n",
    "    max_length = max(lengths)\n",
    "\n",
    "    padded_tensors = []\n",
    "    for tensor in indices:\n",
    "        pad_size = max_length - len(tensor)\n",
    "        padded_tensor = F.pad(tensor, (0, 0, pad_size, 0))\n",
    "        padded_tensors.append(padded_tensor)\n",
    "    \n",
    "    stacked_tensor = torch.stack(padded_tensors)\n",
    "\n",
    "    return stacked_tensor.squeeze(0)"
   ]
  },
  {
   "cell_type": "code",
   "execution_count": 8,
   "metadata": {},
   "outputs": [
    {
     "data": {
      "text/plain": [
       "torch.Size([4, 12950, 4])"
      ]
     },
     "execution_count": 8,
     "metadata": {},
     "output_type": "execute_result"
    }
   ],
   "source": [
    "indices=get_indices((110, 110), s=0, dev='cuda')\n",
    "indices.shape"
   ]
  },
  {
   "cell_type": "code",
   "execution_count": 9,
   "metadata": {},
   "outputs": [],
   "source": [
    "num_epochs = 10"
   ]
  },
  {
   "cell_type": "code",
   "execution_count": 10,
   "metadata": {},
   "outputs": [],
   "source": [
    "class ResidualBlock(nn.Module):\n",
    "    def __init__(self, in_channels, out_channels, stride=1):\n",
    "        super(ResidualBlock, self).__init__()\n",
    "        self.conv1 = nn.Conv2d(in_channels, out_channels, kernel_size=3, stride=stride, padding=1, bias=False)\n",
    "        self.bn1 = nn.BatchNorm2d(out_channels)\n",
    "        self.relu = nn.ReLU(inplace=True)\n",
    "        self.conv2 = nn.Conv2d(out_channels, out_channels, kernel_size=3, stride=1, padding=1, bias=False)\n",
    "        self.bn2 = nn.BatchNorm2d(out_channels)\n",
    "\n",
    "        self.shortcut = nn.Sequential()\n",
    "        if stride != 1 or in_channels != out_channels:\n",
    "            self.shortcut = nn.Sequential(\n",
    "                nn.Conv2d(in_channels, out_channels, kernel_size=1, stride=stride, bias=False),\n",
    "                nn.BatchNorm2d(out_channels)\n",
    "            )\n",
    "\n",
    "    def forward(self, x):\n",
    "        out = self.relu(self.bn1(self.conv1(x)))\n",
    "        out = self.bn2(self.conv2(out))\n",
    "        out += self.shortcut(x)\n",
    "        out = self.relu(out)\n",
    "        return out\n",
    "\n",
    "class Transformer(nn.Module):\n",
    "  def __init__(self, head_dim=32, heads=6, dropout=0.3):\n",
    "    super(Transformer, self).__init__()\n",
    "    self.head_dim = head_dim\n",
    "    self.heads = heads\n",
    "    self.embedding_dim = heads*head_dim\n",
    "  \n",
    "    self.softmax = nn.Softmax(dim=-1)\n",
    "    self.Q = nn.Linear(self.embedding_dim, head_dim*heads, bias=False)\n",
    "    self.K = nn.Linear(self.embedding_dim, head_dim*heads, bias=False)\n",
    "    self.V = nn.Linear(self.embedding_dim, head_dim*heads, bias=False)\n",
    "    \n",
    "    self.mlp = nn.Sequential(nn.Linear(self.embedding_dim, self.embedding_dim), nn.ReLU(),\n",
    "                             nn.Linear(self.embedding_dim, self.embedding_dim), nn.ReLU())\n",
    "\n",
    "    self.layernorm = nn.LayerNorm(heads*head_dim)\n",
    "    self.dropout = nn.Dropout(dropout)\n",
    "\n",
    "  def forward(self,Z):\n",
    "    Q, K, V = self.Q(Z), self.K(Z), self.V(Z)\n",
    "    attention = self.dropout(torch.matmul(self.softmax(torch.matmul(Q, K.transpose(-1, -2)) * self.head_dim ** -0.5),V))\n",
    "    \n",
    "    x = self.layernorm(attention+Z)\n",
    "    x = self.dropout(self.mlp(x))\n",
    "    return x\n",
    "\n",
    "class TransformerBlock(nn.Module):\n",
    "    def __init__(self, in_channels, out_channels, img_shape, indices, head_dim=32, heads=6):\n",
    "        super(TransformerBlock, self).__init__()\n",
    "\n",
    "        self.head_dim = head_dim\n",
    "        self.heads = heads\n",
    "        self.embedding_dim = heads*head_dim\n",
    "        self.im_h, self.im_w, self.im_d = img_shape\n",
    "        self.in_channels = in_channels\n",
    "        self.indices = indices\n",
    "        self.num_patches = indices.shape[0]\n",
    "        self.patch_dim = indices.shape[1]\n",
    "\n",
    "        self.flatten = Rearrange('b c p v s -> (b s) (c p) v')\n",
    "\n",
    "        self.H = nn.Sequential(\n",
    "            nn.Linear(self.patch_dim, self.embedding_dim),\n",
    "            nn.LayerNorm(self.embedding_dim)\n",
    "        )\n",
    "\n",
    "        self.positional_encodings = nn.Parameter(torch.randn(self.num_patches*self.in_channels, self.embedding_dim))\n",
    "\n",
    "        self.tail = nn.Sequential(nn.Linear(self.embedding_dim, self.patch_dim), \n",
    "                                  nn.ReLU(),\n",
    "                                  Rearrange('(b s) (c p) v -> b c p v s', p = self.num_patches, s=self.im_d))\n",
    "        \n",
    "        \n",
    "        self.residualBlock = nn.Sequential(Rearrange('b c h w s -> (b s) c h w'),\n",
    "                                           ResidualBlock(in_channels, out_channels),\n",
    "                                           Rearrange('(b s) c h w -> b c h w s', s=self.im_d))\n",
    "        \n",
    "        self.layers = nn.Sequential(Transformer(),Transformer())\n",
    "\n",
    "    def forward(self, sino):\n",
    "      #print(sino.shape)\n",
    "      #sino = sino.unsqueeze(0).unsqueeze(0).unsqueeze(-1)\n",
    "      sino = sino.unsqueeze(-1)\n",
    "      encodings = sino[:,:,self.indices[:,:,0],self.indices[:,:,1],:]\n",
    "      #print(encodings.shape)\n",
    "      encodings = self.flatten(encodings)\n",
    "      #print(encodings.shape)\n",
    "      H = self.H(encodings)\n",
    "      Z = H + self.positional_encodings.repeat(sino.shape[-1]*sino.shape[0],1,1)\n",
    "\n",
    "      Z = self.layers(Z)\n",
    "\n",
    "      out = self.tail(Z)\n",
    "\n",
    "      out_clone = out.clone()\n",
    "      sino_clone = sino.clone()\n",
    "\n",
    "      sino_clone[:,:,self.indices[:,:,0],self.indices[:,:,1],:] = sino[:,:,self.indices[:,:,0],self.indices[:,:,1],:] + out_clone\n",
    "      sino = sino_clone\n",
    "      sino = self.residualBlock(sino)\n",
    "      \n",
    "      return sino.squeeze(0).squeeze(0).squeeze(-1)"
   ]
  },
  {
   "cell_type": "code",
   "execution_count": 11,
   "metadata": {
    "colab": {
     "base_uri": "https://localhost:8080/"
    },
    "id": "bLuwas00NX2_",
    "outputId": "d9c141ab-e80a-49dd-aadc-1237e53a410a"
   },
   "outputs": [
    {
     "name": "stdout",
     "output_type": "stream",
     "text": [
      "Number of parameters: 1,404,631\n"
     ]
    }
   ],
   "source": [
    "model = TransformerBlock(in_channels=1, out_channels=1, img_shape=(111, 210, 1), indices= get_indices((20, 20), s=0, dev='cuda'), head_dim=32, heads=6).to(dev)\n",
    "#model = DP(TransformerBlock(in_channels=1, out_channels=1, img_shape=(1000, 1000,1), indices= get_indices((256, 256), s=0, dev='cuda'), head_dim=32, heads=6), device_ids=[0,1,2,3,4,5,6,7]).to(dev)\n",
    "\n",
    "\n",
    "print(\"Number of parameters: {:,}\".format(sum(p.numel() for p in model.parameters())))\n",
    "\n",
    "# for m in model.modules():\n",
    "#     if isinstance(m, (nn.Conv2d, nn.Linear)):\n",
    "#         nn.init.normal_(m.weight, mean=0.0, std=0.02)\n",
    "#         if m.bias is not None:\n",
    "#             nn.init.zeros_(m.bias)\n",
    "\n",
    "# no_decay = []\n",
    "# decay = []\n",
    "\n",
    "# for name, param in model.named_parameters():\n",
    "#     if 'weight' in name and 'batchnorm' and 'layernorm' and 'relative_bias_table' not in name:\n",
    "#         decay.append(param)\n",
    "#     else:\n",
    "#         no_decay.append(param)\n",
    "\n",
    "# optimizer = optim.AdamW([\n",
    "#     {'params': decay, 'weight_decay': 0.01},\n",
    "#     {'params': no_decay, 'weight_decay': 0}\n",
    "# ], lr=5e-4)\n",
    "\n",
    "# loss_function = nn.MSELoss()\n",
    "# #loss_function = nn.HuberLoss()\n",
    "# #loss_function = nn.SmoothL1Loss()\n",
    "# lr_scheduler = optim.lr_scheduler.OneCycleLR(optimizer, max_lr=5e-3,\n",
    "#                                              steps_per_epoch=len(dataloader), epochs=num_epochs)\n",
    "\n",
    "# torch.cuda.empty_cache()\n",
    "\n",
    "# Weight Initialization\n",
    "def init_weights(m):\n",
    "    if isinstance(m, (nn.Conv2d, nn.ConvTranspose2d, nn.Linear)):\n",
    "        nn.init.xavier_uniform_(m.weight)\n",
    "        if m.bias is not None:\n",
    "            nn.init.constant_(m.bias, 0)\n",
    "\n",
    "model.apply(init_weights)\n",
    "\n",
    "# Loss function and optimizer\n",
    "loss_function = nn.MSELoss()\n",
    "optimizer = optim.Adam(model.parameters(), lr=0.001)\n",
    "\n",
    "# Learning rate scheduler\n",
    "lr_scheduler = StepLR(optimizer, step_size=10, gamma=0.1)\n",
    "\n",
    "torch.cuda.empty_cache()"
   ]
  },
  {
   "cell_type": "code",
   "execution_count": 12,
   "metadata": {},
   "outputs": [],
   "source": [
    "checkpoint_dir = './PET_data/Deep_Learning/Sinogram_Denoiser_Mayo'\n",
    "\n",
    "if not os.path.exists(checkpoint_dir):\n",
    "    os.makedirs(checkpoint_dir)"
   ]
  },
  {
   "cell_type": "code",
   "execution_count": 13,
   "metadata": {},
   "outputs": [
    {
     "name": "stdout",
     "output_type": "stream",
     "text": [
      "1/10 - loss=17.964; PSNR=nan; SSIM=nan\n",
      "2/10 - loss=7.534; PSNR=-inf; SSIM=0.567\n",
      "3/10 - loss=7.523; PSNR=-inf; SSIM=0.567\n",
      "4/10 - loss=7.525; PSNR=-inf; SSIM=0.567\n",
      "5/10 - loss=7.525; PSNR=-inf; SSIM=0.567\n",
      "6/10 - loss=7.525; PSNR=-inf; SSIM=0.568\n",
      "7/10 - loss=7.527; PSNR=-inf; SSIM=0.567\n",
      "8/10 - loss=7.527; PSNR=-inf; SSIM=0.567\n",
      "9/10 - loss=7.527; PSNR=-inf; SSIM=0.568\n",
      "10/10 - loss=7.526; PSNR=-inf; SSIM=0.567\n",
      "Model checkpoint saved at ./PET_data/Deep_Learning/Sinogram_Denoiser_Mayo\\SDT_3_1_epoch_10.pth\n"
     ]
    }
   ],
   "source": [
    "# Training the Network\n",
    "\n",
    "\n",
    "loss_list = []\n",
    "\n",
    "for epoch in range(num_epochs):\n",
    "    \n",
    "    running_loss = 0.0\n",
    "    ssim_list = []\n",
    "    psnr_list = []\n",
    "\n",
    "    for noisy, noisefree in dataloader:\n",
    "        # Move data to device (GPU or CPU)\n",
    "        noisy = noisy.to(dev)\n",
    "        noisefree = noisefree.to(dev)\n",
    "\n",
    "        # Permute the data to (batch_size, channels, height, width)\n",
    "        # Channels are the 35 slices, so we permute the sinogram set to (1, 35, 111, 210)\n",
    "        noisy = noisy.permute(3, 0, 1, 2)\n",
    "        noisefree = noisefree.permute(3, 0, 1, 2)\n",
    "\n",
    "        # Forward pass\n",
    "        output_train = model(noisy)\n",
    "        loss_value = loss_function(output_train, noisefree)\n",
    "\n",
    "        # Backward pass and optimization\n",
    "        optimizer.zero_grad()\n",
    "        loss_value.backward()\n",
    "        optimizer.step()\n",
    "\n",
    "        running_loss += loss_value.item()\n",
    "\n",
    "        # Calculate PSNR and SSIM for each image in the batch\n",
    "        for j in range(35):\n",
    "            psnr_list.append(fom.psnr(output_train[j, 0].detach().cpu(), noisefree[j,0].cpu().numpy()))\n",
    "            ssim_list.append(fom.ssim(output_train[j, 0].detach().cpu(), noisefree[j,0].cpu().numpy()))\n",
    "\n",
    "    # Average the running loss and metrics\n",
    "    running_loss /= 35\n",
    "    loss_list.append(running_loss)\n",
    "    \n",
    "    psnr_value = np.mean(psnr_list)\n",
    "    ssim_value = np.mean(ssim_list)\n",
    "\n",
    "    print(\"{}/{} - loss={:.3f}; PSNR={:.3f}; SSIM={:.3f}\".format(\n",
    "        epoch + 1, num_epochs, running_loss, psnr_value, ssim_value))\n",
    "\n",
    "    # Save a checkpoint every 10 epochs\n",
    "    if (epoch + 1) % 10 == 0:\n",
    "        checkpoint_path = os.path.join(checkpoint_dir, f'SDT_3_epoch_{epoch+1}.pth')\n",
    "        checkpoint_path = os.path.join(checkpoint_dir, f'SDT_3_0.3_epoch_{epoch+1}.pth')\n",
    "        checkpoint_path = os.path.join(checkpoint_dir, f'SDT_3_1_epoch_{epoch+1}.pth')\n",
    "        torch.save({\n",
    "            'epoch': epoch,\n",
    "            'model_state_dict': model.state_dict(),\n",
    "            'optimizer_state_dict': optimizer.state_dict(),\n",
    "            'lr_scheduler_state_dict': lr_scheduler.state_dict()\n",
    "        }, checkpoint_path)\n",
    "        print(f'Model checkpoint saved at {checkpoint_path}')"
   ]
  },
  {
   "cell_type": "code",
   "execution_count": 14,
   "metadata": {
    "tags": []
   },
   "outputs": [
    {
     "data": {
      "text/plain": [
       "torch.Size([220, 1, 1, 220])"
      ]
     },
     "execution_count": 14,
     "metadata": {},
     "output_type": "execute_result"
    }
   ],
   "source": [
    "noisy.shape"
   ]
  },
  {
   "cell_type": "code",
   "execution_count": 15,
   "metadata": {},
   "outputs": [
    {
     "data": {
      "text/plain": [
       "torch.Size([220, 1, 1, 220])"
      ]
     },
     "execution_count": 15,
     "metadata": {},
     "output_type": "execute_result"
    }
   ],
   "source": [
    "output_train.shape"
   ]
  },
  {
   "cell_type": "code",
   "execution_count": 16,
   "metadata": {},
   "outputs": [
    {
     "data": {
      "text/plain": [
       "<matplotlib.image.AxesImage at 0x1fd54c5a250>"
      ]
     },
     "execution_count": 16,
     "metadata": {},
     "output_type": "execute_result"
    },
    {
     "data": {
      "image/png": "[encoded data removed]",
      "text/plain": [
       "<Figure size 640x480 with 1 Axes>"
      ]
     },
     "metadata": {},
     "output_type": "display_data"
    }
   ],
   "source": [
    "plt.imshow(noisy[0,0,:,:].cpu().detach().numpy())"
   ]
  },
  {
   "cell_type": "code",
   "execution_count": 17,
   "metadata": {},
   "outputs": [
    {
     "data": {
      "text/plain": [
       "<matplotlib.image.AxesImage at 0x1fd87b95c70>"
      ]
     },
     "execution_count": 17,
     "metadata": {},
     "output_type": "execute_result"
    },
    {
     "data": {
      "image/png": "[encoded data removed]",
      "text/plain": [
       "<Figure size 640x480 with 1 Axes>"
      ]
     },
     "metadata": {},
     "output_type": "display_data"
    }
   ],
   "source": [
    "plt.imshow(output_train[0,0,:,:].cpu().detach().numpy())"
   ]
  },
  {
   "cell_type": "code",
   "execution_count": 18,
   "metadata": {},
   "outputs": [
    {
     "data": {
      "text/plain": [
       "<matplotlib.image.AxesImage at 0x1fd87a0c370>"
      ]
     },
     "execution_count": 18,
     "metadata": {},
     "output_type": "execute_result"
    },
    {
     "data": {
      "image/png": "[encoded data removed]",
      "text/plain": [
       "<Figure size 640x480 with 1 Axes>"
      ]
     },
     "metadata": {},
     "output_type": "display_data"
    }
   ],
   "source": [
    "plt.imshow(noisefree[0,0,:,:].cpu().detach().numpy())"
   ]
  },
  {
   "cell_type": "code",
   "execution_count": 19,
   "metadata": {},
   "outputs": [
    {
     "data": {
      "image/png": "[encoded data removed]",
      "text/plain": [
       "<Figure size 1000x600 with 1 Axes>"
      ]
     },
     "metadata": {},
     "output_type": "display_data"
    }
   ],
   "source": [
    "# Create an array for the x-axis values (epoch numbers)\n",
    "epochs = list(range(1, len(loss_list) + 1))\n",
    "\n",
    "# Create the plot\n",
    "plt.figure(figsize=(10, 6))\n",
    "plt.plot(epochs, loss_list, marker='o', linestyle='-', color='b')\n",
    "\n",
    "# Add labels and title\n",
    "plt.xlabel('Epoch')\n",
    "plt.ylabel('Loss')\n",
    "plt.title('Training Loss Over Epochs')\n",
    "\n",
    "# Optionally add a grid\n",
    "plt.grid(True)\n",
    "\n",
    "# Show the plot\n",
    "plt.show()"
   ]
  },
  {
   "cell_type": "code",
   "execution_count": 29,
   "metadata": {},
   "outputs": [],
   "source": [
    "# Load the test noisy and noisefree sinograms\n",
    "test_sinograms_noisy = np.load('./PET_data/Test_npy/test_sinograms_noisy.npy')\n",
    "test_sinograms_noisefree = np.load('./PET_data/Test_npy/test_sinograms_noisefree.npy')\n",
    "\n",
    "# Convert the numpy arrays to PyTorch tensors\n",
    "test_sinograms_noisy = torch.tensor(test_sinograms_noisy, dtype=torch.float32)\n",
    "test_sinograms_noisefree = torch.tensor(test_sinograms_noisefree, dtype=torch.float32)"
   ]
  },
  {
   "cell_type": "code",
   "execution_count": 30,
   "metadata": {},
   "outputs": [
    {
     "data": {
      "text/plain": [
       "torch.Size([580, 1, 220, 220])"
      ]
     },
     "execution_count": 30,
     "metadata": {},
     "output_type": "execute_result"
    }
   ],
   "source": [
    "test_sinograms_noisy.shape"
   ]
  },
  {
   "cell_type": "code",
   "execution_count": 31,
   "metadata": {},
   "outputs": [
    {
     "data": {
      "text/plain": [
       "torch.Size([220, 1, 220])"
      ]
     },
     "execution_count": 31,
     "metadata": {},
     "output_type": "execute_result"
    }
   ],
   "source": [
    "test_sinograms_noisy[0].permute(2, 0, 1).shape"
   ]
  },
  {
   "cell_type": "code",
   "execution_count": 32,
   "metadata": {},
   "outputs": [
    {
     "data": {
      "text/plain": [
       "torch.Size([220, 1, 1, 220])"
      ]
     },
     "execution_count": 32,
     "metadata": {},
     "output_type": "execute_result"
    }
   ],
   "source": [
    "output_train.shape"
   ]
  },
  {
   "cell_type": "code",
   "execution_count": 33,
   "metadata": {},
   "outputs": [
    {
     "name": "stdout",
     "output_type": "stream",
     "text": [
      "PSNR: -inf ± nan\n",
      "SSIM: 0.637 ± 0.268\n",
      "RMSE: 0.278 ± 0.158\n"
     ]
    }
   ],
   "source": [
    "# PSNR and SSIM Calculations for Sinograms in the test Set\n",
    "model.eval() \n",
    "\n",
    "# Initialize lists for PSNR, SSIM, and RMSE\n",
    "psnr_values = []\n",
    "ssim_values = []\n",
    "rmse_values = []\n",
    "\n",
    "\n",
    "# Loop over all samples in the validation set\n",
    "with torch.no_grad():\n",
    "    for i in range(20):\n",
    "        # Get the model input and target for the current sample\n",
    "        test_sinograms_noisy_new = test_sinograms_noisy[i].permute(2, 0, 1)\n",
    "        test_sinograms_noisefree_new = test_sinograms_noisefree[i].permute(2, 0, 1)\n",
    "\n",
    "        model_input = to_device(test_sinograms_noisy_new, dev)\n",
    "        target = to_device(test_sinograms_noisefree_new, dev)\n",
    "        \n",
    "        # Get the model output\n",
    "        model_output = model(model_input.unsqueeze(1))\n",
    "        \n",
    "        # Calculate PSNR and SSIM for the current sample\n",
    "        for j in range(35):\n",
    "            psnr_value = fom.psnr(model_output[j,0,:,:].cpu().numpy(), target[j].cpu().numpy())\n",
    "            ssim_value = fom.ssim(model_output[j,0,:,:].cpu().numpy(), target[j].cpu().numpy())\n",
    "            rmse_value = np.sqrt(fom.mean_squared_error(model_output[j,0,:,:].cpu().numpy(), target[j].cpu().numpy()))\n",
    "        \n",
    "            # Append the values to the lists\n",
    "            psnr_values.append(psnr_value)\n",
    "            ssim_values.append(ssim_value)\n",
    "            rmse_values.append(rmse_value)\n",
    "\n",
    "# Convert lists to NumPy arrays for easy mean and std calculation\n",
    "psnr_values = np.array(psnr_values)\n",
    "ssim_values = np.array(ssim_values)\n",
    "rmse_values = np.array(rmse_values)\n",
    "\n",
    "# Calculate the mean and standard deviation\n",
    "mean_psnr = np.mean(psnr_values)\n",
    "std_psnr = np.std(psnr_values)\n",
    "\n",
    "mean_ssim = np.mean(ssim_values)\n",
    "std_ssim = np.std(ssim_values)\n",
    "\n",
    "mean_rmse = np.mean(rmse_values)\n",
    "std_rmse = np.std(rmse_values)\n",
    "\n",
    "# Print the mean and standard deviation for PSNR, SSIM, and RMSE\n",
    "print(\"PSNR: {:.3f} ± {:.3f}\".format(mean_psnr, std_psnr))\n",
    "print(\"SSIM: {:.3f} ± {:.3f}\".format(mean_ssim, std_ssim))\n",
    "print(\"RMSE: {:.3f} ± {:.3f}\".format(mean_rmse, std_rmse))"
   ]
  },
  {
   "cell_type": "code",
   "execution_count": 34,
   "metadata": {},
   "outputs": [
    {
     "data": {
      "text/plain": [
       "torch.Size([220, 1, 1, 220])"
      ]
     },
     "execution_count": 34,
     "metadata": {},
     "output_type": "execute_result"
    }
   ],
   "source": [
    "model_output.shape"
   ]
  },
  {
   "cell_type": "code",
   "execution_count": 35,
   "metadata": {},
   "outputs": [
    {
     "data": {
      "text/plain": [
       "30.854753"
      ]
     },
     "execution_count": 35,
     "metadata": {},
     "output_type": "execute_result"
    },
    {
     "data": {
      "image/png": "[encoded data removed]",
      "text/plain": [
       "<Figure size 640x480 with 1 Axes>"
      ]
     },
     "metadata": {},
     "output_type": "display_data"
    }
   ],
   "source": [
    "plt.imshow(np.abs(model_output[20,0,:,:].cpu().numpy()-target[20].cpu().numpy()))\n",
    "#plt.colorbar()\n",
    "ax = plt.gca()\n",
    "ax.set_axis_off()\n",
    "np.sum(np.abs(model_output[20,0,:,:].cpu().numpy()-target[20].cpu().numpy()))"
   ]
  },
  {
   "cell_type": "code",
   "execution_count": 36,
   "metadata": {},
   "outputs": [
    {
     "data": {
      "text/plain": [
       "torch.Size([220, 1, 220])"
      ]
     },
     "execution_count": 36,
     "metadata": {},
     "output_type": "execute_result"
    }
   ],
   "source": [
    "model_input.shape"
   ]
  },
  {
   "cell_type": "code",
   "execution_count": 37,
   "metadata": {},
   "outputs": [
    {
     "data": {
      "text/plain": [
       "42.637474"
      ]
     },
     "execution_count": 37,
     "metadata": {},
     "output_type": "execute_result"
    },
    {
     "data": {
      "image/png": "[encoded data removed]",
      "text/plain": [
       "<Figure size 640x480 with 1 Axes>"
      ]
     },
     "metadata": {},
     "output_type": "display_data"
    }
   ],
   "source": [
    "plt.imshow(np.abs(model_input[20].cpu().numpy()-target[20].cpu().numpy()))\n",
    "#plt.colorbar()\n",
    "ax = plt.gca()\n",
    "ax.set_axis_off()\n",
    "np.sum(np.abs(model_input[20].cpu().numpy()-target[20].cpu().numpy()))"
   ]
  },
  {
   "cell_type": "code",
   "execution_count": 38,
   "metadata": {},
   "outputs": [
    {
     "data": {
      "image/png": "[encoded data removed]",
      "text/plain": [
       "<Figure size 640x480 with 1 Axes>"
      ]
     },
     "metadata": {},
     "output_type": "display_data"
    }
   ],
   "source": [
    "plt.imshow(np.abs(target[20].cpu().numpy()-target[20].cpu().numpy()))\n",
    "#plt.colorbar()\n",
    "ax = plt.gca()\n",
    "ax.set_axis_off()"
   ]
  },
  {
   "cell_type": "code",
   "execution_count": 43,
   "metadata": {},
   "outputs": [
    {
     "ename": "FileNotFoundError",
     "evalue": "[Errno 2] No such file or directory: './PET_data/Test_npy/test_images_att.npy'",
     "output_type": "error",
     "traceback": [
      "\u001b[1;31m---------------------------------------------------------------------------\u001b[0m",
      "\u001b[1;31mFileNotFoundError\u001b[0m                         Traceback (most recent call last)",
      "Cell \u001b[1;32mIn[43], line 2\u001b[0m\n\u001b[0;32m      1\u001b[0m \u001b[38;5;66;03m# Load the test attenuation images\u001b[39;00m\n\u001b[1;32m----> 2\u001b[0m test_images_att \u001b[38;5;241m=\u001b[39m \u001b[43mnp\u001b[49m\u001b[38;5;241;43m.\u001b[39;49m\u001b[43mload\u001b[49m\u001b[43m(\u001b[49m\u001b[38;5;124;43m'\u001b[39;49m\u001b[38;5;124;43m./PET_data/Test_npy/test_images_att.npy\u001b[39;49m\u001b[38;5;124;43m'\u001b[39;49m\u001b[43m)\u001b[49m\n\u001b[0;32m      4\u001b[0m \u001b[38;5;66;03m# Convert the numpy arrays to PyTorch tensors\u001b[39;00m\n\u001b[0;32m      5\u001b[0m test_images_att \u001b[38;5;241m=\u001b[39m torch\u001b[38;5;241m.\u001b[39mtensor(test_images_att, dtype\u001b[38;5;241m=\u001b[39mtorch\u001b[38;5;241m.\u001b[39mfloat32)\n",
      "File \u001b[1;32m~\\anaconda3\\envs\\reconstruction\\lib\\site-packages\\numpy\\lib\\npyio.py:427\u001b[0m, in \u001b[0;36mload\u001b[1;34m(file, mmap_mode, allow_pickle, fix_imports, encoding, max_header_size)\u001b[0m\n\u001b[0;32m    425\u001b[0m     own_fid \u001b[38;5;241m=\u001b[39m \u001b[38;5;28;01mFalse\u001b[39;00m\n\u001b[0;32m    426\u001b[0m \u001b[38;5;28;01melse\u001b[39;00m:\n\u001b[1;32m--> 427\u001b[0m     fid \u001b[38;5;241m=\u001b[39m stack\u001b[38;5;241m.\u001b[39menter_context(\u001b[38;5;28;43mopen\u001b[39;49m\u001b[43m(\u001b[49m\u001b[43mos_fspath\u001b[49m\u001b[43m(\u001b[49m\u001b[43mfile\u001b[49m\u001b[43m)\u001b[49m\u001b[43m,\u001b[49m\u001b[43m \u001b[49m\u001b[38;5;124;43m\"\u001b[39;49m\u001b[38;5;124;43mrb\u001b[39;49m\u001b[38;5;124;43m\"\u001b[39;49m\u001b[43m)\u001b[49m)\n\u001b[0;32m    428\u001b[0m     own_fid \u001b[38;5;241m=\u001b[39m \u001b[38;5;28;01mTrue\u001b[39;00m\n\u001b[0;32m    430\u001b[0m \u001b[38;5;66;03m# Code to distinguish from NumPy binary files and pickles.\u001b[39;00m\n",
      "\u001b[1;31mFileNotFoundError\u001b[0m: [Errno 2] No such file or directory: './PET_data/Test_npy/test_images_att.npy'"
     ]
    }
   ],
   "source": [
    "# Load the test attenuation images\n",
    "test_images_att = np.load('./PET_data/Test_npy/test_images_att.npy')\n",
    "\n",
    "# Convert the numpy arrays to PyTorch tensors\n",
    "test_images_att = torch.tensor(test_images_att, dtype=torch.float32)\n"
   ]
  },
  {
   "cell_type": "code",
   "execution_count": 40,
   "metadata": {},
   "outputs": [
    {
     "ename": "NameError",
     "evalue": "name 'test_images_att' is not defined",
     "output_type": "error",
     "traceback": [
      "\u001b[1;31m---------------------------------------------------------------------------\u001b[0m",
      "\u001b[1;31mNameError\u001b[0m                                 Traceback (most recent call last)",
      "Cell \u001b[1;32mIn[40], line 1\u001b[0m\n\u001b[1;32m----> 1\u001b[0m \u001b[43mtest_images_att\u001b[49m\u001b[38;5;241m.\u001b[39mshape\n",
      "\u001b[1;31mNameError\u001b[0m: name 'test_images_att' is not defined"
     ]
    }
   ],
   "source": [
    "test_images_att.shape"
   ]
  },
  {
   "cell_type": "code",
   "execution_count": 41,
   "metadata": {},
   "outputs": [
    {
     "ename": "NameError",
     "evalue": "name 'test_images_att' is not defined",
     "output_type": "error",
     "traceback": [
      "\u001b[1;31m---------------------------------------------------------------------------\u001b[0m",
      "\u001b[1;31mNameError\u001b[0m                                 Traceback (most recent call last)",
      "Cell \u001b[1;32mIn[41], line 1\u001b[0m\n\u001b[1;32m----> 1\u001b[0m y_gpu \u001b[38;5;241m=\u001b[39m (\u001b[43mtest_images_att\u001b[49m[\u001b[38;5;241m19\u001b[39m,:,:,:]\u001b[38;5;241m.\u001b[39mpermute(\u001b[38;5;241m0\u001b[39m,\u001b[38;5;241m2\u001b[39m,\u001b[38;5;241m1\u001b[39m))\u001b[38;5;241m.\u001b[39mto(\u001b[38;5;124m'\u001b[39m\u001b[38;5;124mcuda\u001b[39m\u001b[38;5;124m'\u001b[39m)\n",
      "\u001b[1;31mNameError\u001b[0m: name 'test_images_att' is not defined"
     ]
    }
   ],
   "source": [
    "y_gpu = (test_images_att[19,:,:,:].permute(0,2,1)).to('cuda')"
   ]
  },
  {
   "cell_type": "code",
   "execution_count": 42,
   "metadata": {},
   "outputs": [
    {
     "ename": "NameError",
     "evalue": "name 'y_gpu' is not defined",
     "output_type": "error",
     "traceback": [
      "\u001b[1;31m---------------------------------------------------------------------------\u001b[0m",
      "\u001b[1;31mNameError\u001b[0m                                 Traceback (most recent call last)",
      "Cell \u001b[1;32mIn[42], line 1\u001b[0m\n\u001b[1;32m----> 1\u001b[0m \u001b[43my_gpu\u001b[49m\u001b[38;5;241m.\u001b[39mshape\n",
      "\u001b[1;31mNameError\u001b[0m: name 'y_gpu' is not defined"
     ]
    }
   ],
   "source": [
    "y_gpu.shape"
   ]
  },
  {
   "cell_type": "code",
   "execution_count": 32,
   "metadata": {},
   "outputs": [],
   "source": [
    "# Incorporating image-based resolution model and adding the effect of attenuation\n",
    "\n",
    "res_model = parallelproj.GaussianFilterOperator(\n",
    "    proj.in_shape, sigma=0.75 / (2.35 * proj.voxel_size)\n",
    ")\n",
    "fa = proj(y_gpu)\n",
    "\n",
    "att_sino = xp.exp(-fa)\n",
    "att_op = parallelproj.ElementwiseMultiplicationOperator(att_sino)\n",
    "\n",
    "proj_with_res_model = parallelproj.CompositeLinearOperator((att_op, proj, res_model))"
   ]
  },
  {
   "cell_type": "code",
   "execution_count": null,
   "metadata": {},
   "outputs": [],
   "source": [
    "phi_max = xp.pi\n",
    "num_rad = 111\n",
    "num_phi = 210\n",
    "\n",
    "r = xp.linspace(-55.5, 55.5, num_rad, device=dev, dtype=xp.float32)\n",
    "n_filter = r.shape[0]\n",
    "r_shift = torch.arange(n_filter, device=dev, dtype=torch.float64) - n_filter // 2\n",
    "f = torch.zeros(n_filter, device=dev, dtype=torch.float64)\n",
    "f[r_shift != 0] = -1 / (torch.pi**2 * r_shift[r_shift != 0] ** 2)\n",
    "f[(r_shift % 2) == 0] = 0\n",
    "f[r_shift == 0] = 0.25\n",
    "\n",
    "fig, ax = plt.subplots(tight_layout=True)\n",
    "ax.plot(r_shift.cpu().detach().numpy(), f.cpu().detach().numpy(), \".-\")\n",
    "ax.set_xlabel(r\"$s$\")\n",
    "ax.set_ylabel(r\"$f$\")\n",
    "ax.set_title(\"Ramp Filter\", fontsize=\"medium\")\n",
    "fig.show()"
   ]
  },
  {
   "cell_type": "code",
   "execution_count": 34,
   "metadata": {},
   "outputs": [],
   "source": [
    "x_fwd2 = target[20,:,:]"
   ]
  },
  {
   "cell_type": "code",
   "execution_count": null,
   "metadata": {},
   "outputs": [],
   "source": [
    "x_fwd2.shape"
   ]
  },
  {
   "cell_type": "code",
   "execution_count": 36,
   "metadata": {},
   "outputs": [],
   "source": [
    "pre_corrected_sino = x_fwd2.to('cuda')\n",
    "filtered_pre_corrected_sino = 1.0 * pre_corrected_sino\n",
    "\n",
    "for i in range(num_phi):\n",
    "    filtered_pre_corrected_sino[:, i] = xp.asarray(\n",
    "        np.convolve(\n",
    "            parallelproj.to_numpy_array(filtered_pre_corrected_sino[:, i]),\n",
    "            f.cpu(),\n",
    "            mode=\"same\",\n",
    "        ),\n",
    "        device=dev,\n",
    "    )"
   ]
  },
  {
   "cell_type": "code",
   "execution_count": null,
   "metadata": {},
   "outputs": [],
   "source": [
    "filtered_pre_corrected_sino.shape"
   ]
  },
  {
   "cell_type": "code",
   "execution_count": 38,
   "metadata": {},
   "outputs": [],
   "source": [
    "fbp_reconstructed = proj_with_res_model.adjoint((filtered_pre_corrected_sino.unsqueeze(2)).repeat(1, 1, 35))"
   ]
  },
  {
   "cell_type": "code",
   "execution_count": null,
   "metadata": {},
   "outputs": [],
   "source": [
    "fbp_reconstructed.shapes"
   ]
  },
  {
   "cell_type": "code",
   "execution_count": null,
   "metadata": {},
   "outputs": [],
   "source": [
    "plt.imshow(fbp_reconstructed[:,0,:].cpu().detach().numpy())"
   ]
  },
  {
   "cell_type": "code",
   "execution_count": 41,
   "metadata": {},
   "outputs": [],
   "source": [
    "x_fwd2 = model_input[20,:,:]"
   ]
  },
  {
   "cell_type": "code",
   "execution_count": 42,
   "metadata": {},
   "outputs": [],
   "source": [
    "pre_corrected_sino = x_fwd2.to('cuda')\n",
    "filtered_pre_corrected_sino = 1.0 * pre_corrected_sino\n",
    "\n",
    "for i in range(num_phi):\n",
    "    filtered_pre_corrected_sino[:, i] = xp.asarray(\n",
    "        np.convolve(\n",
    "            parallelproj.to_numpy_array(filtered_pre_corrected_sino[:, i]),\n",
    "            f.cpu(),\n",
    "            mode=\"same\",\n",
    "        ),\n",
    "        device=dev,\n",
    "    )"
   ]
  },
  {
   "cell_type": "code",
   "execution_count": 43,
   "metadata": {},
   "outputs": [],
   "source": [
    "fbp_reconstructed = proj_with_res_model.adjoint((filtered_pre_corrected_sino.unsqueeze(2)).repeat(1, 1, 35))"
   ]
  },
  {
   "cell_type": "code",
   "execution_count": null,
   "metadata": {},
   "outputs": [],
   "source": [
    "plt.imshow(fbp_reconstructed[:,0,:].cpu().detach().numpy())"
   ]
  },
  {
   "cell_type": "code",
   "execution_count": 45,
   "metadata": {},
   "outputs": [],
   "source": [
    "x_fwd2 = model_output[20,0,:,:]"
   ]
  },
  {
   "cell_type": "code",
   "execution_count": 46,
   "metadata": {},
   "outputs": [],
   "source": [
    "pre_corrected_sino = x_fwd2.to('cuda')\n",
    "filtered_pre_corrected_sino = 1.0 * pre_corrected_sino\n",
    "\n",
    "for i in range(num_phi):\n",
    "    filtered_pre_corrected_sino[:, i] = xp.asarray(\n",
    "        np.convolve(\n",
    "            parallelproj.to_numpy_array(filtered_pre_corrected_sino[:, i]),\n",
    "            f.cpu(),\n",
    "            mode=\"same\",\n",
    "        ),\n",
    "        device=dev,\n",
    "    )"
   ]
  },
  {
   "cell_type": "code",
   "execution_count": 47,
   "metadata": {},
   "outputs": [],
   "source": [
    "fbp_reconstructed = proj_with_res_model.adjoint((filtered_pre_corrected_sino.unsqueeze(2)).repeat(1, 1, 35))"
   ]
  },
  {
   "cell_type": "code",
   "execution_count": null,
   "metadata": {},
   "outputs": [],
   "source": [
    "plt.imshow(fbp_reconstructed[:,0,:].cpu().detach().numpy())"
   ]
  }
 ],
 "metadata": {
  "kernelspec": {
   "display_name": "Python (reconstruction)",
   "language": "python",
   "name": "reconstruction"
  },
  "language_info": {
   "codemirror_mode": {
    "name": "ipython",
    "version": 3
   },
   "file_extension": ".py",
   "mimetype": "text/x-python",
   "name": "python",
   "nbconvert_exporter": "python",
   "pygments_lexer": "ipython3",
   "version": "3.9.20"
  }
 },
 "nbformat": 4,
 "nbformat_minor": 4
}
