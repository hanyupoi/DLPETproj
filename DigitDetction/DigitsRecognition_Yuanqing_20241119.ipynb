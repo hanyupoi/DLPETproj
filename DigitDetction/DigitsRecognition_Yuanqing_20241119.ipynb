{
 "cells": [
  {
   "cell_type": "code",
   "execution_count": 1,
   "id": "0ef8b0d6-29d0-4f31-8481-5ba4487079db",
   "metadata": {},
   "outputs": [
    {
     "name": "stdout",
     "output_type": "stream",
     "text": [
      "True\n",
      "1\n",
      "NVIDIA GeForce RTX 4070 SUPER\n"
     ]
    }
   ],
   "source": [
    "# to find and check the hardware(GPU) situatuion, if you have no available GPUs, please no worries. This neural netwaork can run via CPU.\n",
    "import torch\n",
    "print(torch.cuda.is_available())  # to find available GPUs\n",
    "print(torch.cuda.device_count()) # to count the number of GPUs\n",
    "print(torch.cuda.get_device_name(0))  # To get name of the first available GPU"
   ]
  },
  {
   "cell_type": "code",
   "execution_count": 9,
   "id": "f3a278a8-b652-414a-838f-ad99ccc1bee7",
   "metadata": {},
   "outputs": [
    {
     "name": "stdout",
     "output_type": "stream",
     "text": [
      "Epoch [1/5], Loss: 0.2830\n",
      "Epoch [2/5], Loss: 0.1422\n",
      "Epoch [3/5], Loss: 0.2190\n",
      "Epoch [4/5], Loss: 0.0811\n",
      "Epoch [5/5], Loss: 0.0441\n",
      "Training Time: 26.71 seconds\n",
      "Test Accuracy: 96.97%\n"
     ]
    }
   ],
   "source": [
    "# import libraries\n",
    "import torch\n",
    "import torch.nn as nn\n",
    "import torch.optim as optim\n",
    "from torchvision import datasets, transforms\n",
    "import matplotlib.pyplot as plt\n",
    "import time\n",
    "\n",
    "# set hyperparaters\n",
    "batch_size = 64\n",
    "learning_rate = 0.001\n",
    "num_epochs = 5\n",
    "\n",
    "# load database\n",
    "transform = transforms.Compose([\n",
    "    transforms.ToTensor(),  # transfer images to tensors\n",
    "    transforms.Normalize((0.5,), (0.5,))  # normalization\n",
    "])\n",
    "\n",
    "train_dataset = datasets.MNIST(root='./data', train=True, transform=transform, download=True)\n",
    "test_dataset = datasets.MNIST(root='./data', train=False, transform=transform, download=True)\n",
    "\n",
    "train_loader = torch.utils.data.DataLoader(dataset=train_dataset, batch_size=batch_size, shuffle=True)\n",
    "test_loader = torch.utils.data.DataLoader(dataset=test_dataset, batch_size=batch_size, shuffle=False)\n",
    "\n",
    "# define a simple neural network\n",
    "class DigitsRecogNN(nn.Module):\n",
    "    def __init__(self):\n",
    "        super(DigitsRecogNN, self).__init__()\n",
    "        self.flatten = nn.Flatten()  # flatten layer, input layer\n",
    "        self.fc1 = nn.Linear(28*28, 128)  # full connected layer\n",
    "        self.relu = nn.ReLU() # response functions\n",
    "        self.fc2 = nn.Linear(128, 10)  # full connected layer, output layer\n",
    "\n",
    "    def forward(self, x):\n",
    "        x = self.flatten(x)\n",
    "        x = self.fc1(x)\n",
    "        x = self.relu(x)\n",
    "        x = self.fc2(x)\n",
    "        return x\n",
    "\n",
    "model = DigitsRecogNN()\n",
    "\n",
    "# define loss function and optimizer\n",
    "criterion = nn.CrossEntropyLoss()\n",
    "optimizer = optim.Adam(model.parameters(), lr=learning_rate)\n",
    "\n",
    "# record start time\n",
    "start_time = time.time()\n",
    "\n",
    "# training\n",
    "for epoch in range(num_epochs):\n",
    "    model.train()\n",
    "    for batch_idx, (data, targets) in enumerate(train_loader):\n",
    "        # upload data to GPU, if GPU is availavle\n",
    "        data, targets = data.to('cpu'), targets.to('cpu')\n",
    "\n",
    "        # forward propogation\n",
    "        outputs = model(data)\n",
    "        loss = criterion(outputs, targets)\n",
    "\n",
    "        # back propagration\n",
    "        optimizer.zero_grad()\n",
    "        loss.backward()\n",
    "        optimizer.step()\n",
    "\n",
    "    print(f\"Epoch [{epoch+1}/{num_epochs}], Loss: {loss.item():.4f}\")\n",
    "\n",
    "# record end time\n",
    "end_time = time.time()\n",
    "\n",
    "# output traning time\n",
    "train_time = end_time - start_time\n",
    "print(f\"Training Time: {train_time:.2f} seconds\")\n",
    "\n",
    "# test model\n",
    "model.eval()\n",
    "correct = 0\n",
    "total = 0\n",
    "with torch.no_grad():\n",
    "    for data, targets in test_loader:\n",
    "        data, targets = data.to('cpu'), targets.to('cpu')\n",
    "        outputs = model(data)\n",
    "        _, predicted = outputs.max(1)\n",
    "        total += targets.size(0)\n",
    "        correct += (predicted == targets).sum().item()\n",
    "\n",
    "print(f\"Test Accuracy: {100 * correct / total:.2f}%\")"
   ]
  },
  {
   "cell_type": "code",
   "execution_count": 11,
   "id": "2691b476-dd53-4aab-97f3-4bbd2f65ca3d",
   "metadata": {},
   "outputs": [
    {
     "data": {
      "image/png": "[encoded data removed]",
      "text/plain": [
       "<Figure size 640x480 with 6 Axes>"
      ]
     },
     "metadata": {},
     "output_type": "display_data"
    }
   ],
   "source": [
    "# visualization\n",
    "examples = enumerate(test_loader)\n",
    "batch_idx, (example_data, example_targets) = next(examples)\n",
    "with torch.no_grad():\n",
    "    example_data = example_data.to('cpu')\n",
    "    outputs = model(example_data)\n",
    "    _, predicted = outputs.max(1)\n",
    "for i in range(6):\n",
    "    plt.subplot(2, 3, i+1)\n",
    "    plt.imshow(example_data[i].squeeze(), cmap='gray')\n",
    "    plt.imshow(example_data[i][0], cmap='gray') # test, same as above\n",
    "    plt.title(f\"Prediction: {predicted[i].item()}\")\n",
    "    plt.axis('off')\n",
    "plt.show()"
   ]
  },
  {
   "cell_type": "code",
   "execution_count": 16,
   "id": "4ac606f7-d7dd-4ab9-85de-4bb7679bfa8e",
   "metadata": {},
   "outputs": [],
   "source": [
    "# save the dictionary of the model\n",
    "torch.save(model.state_dict(), 'DigitsRecognition.pth')"
   ]
  }
 ],
 "metadata": {
  "kernelspec": {
   "display_name": "Python 3 (ipykernel)",
   "language": "python",
   "name": "python3"
  },
  "language_info": {
   "codemirror_mode": {
    "name": "ipython",
    "version": 3
   },
   "file_extension": ".py",
   "mimetype": "text/x-python",
   "name": "python",
   "nbconvert_exporter": "python",
   "pygments_lexer": "ipython3",
   "version": "3.12.4"
  }
 },
 "nbformat": 4,
 "nbformat_minor": 5
}
