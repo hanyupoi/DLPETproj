{
 "cells": [
  {
   "cell_type": "code",
   "execution_count": null,
   "id": "7c32179d-30e4-4035-8087-078307d3a55a",
   "metadata": {},
   "outputs": [],
   "source": [
    "# This code is aimed to find out the loaded libiomp5md.dll. This conflict caused by two different positions of libiomp5md.dll.\n",
    "# Comment this .dll in the directory C:\\Users\\47348\\anaconda3\\Library\\bin\\libiomp5md.dll.\n",
    "# To reinstall numpy can solve this problem ."
   ]
  },
  {
   "cell_type": "code",
   "execution_count": 1,
   "id": "2aeaf106-3e13-4a35-a67c-736d4c611a5d",
   "metadata": {},
   "outputs": [
    {
     "name": "stdout",
     "output_type": "stream",
     "text": [
      "Found libiomp5md.dll at: C:\\Users\\47348\\anaconda3\\Library\\bin\\libiomp5md.dll\n",
      "Found libiomp5md.dll at: C:\\Users\\47348\\anaconda3\\Library\\bin\\libiomp5md.dll\n",
      "libiomp5md.dll is loaded from: 140714988994560\n"
     ]
    }
   ],
   "source": [
    "import os\n",
    "import torch\n",
    "import ctypes\n",
    "\n",
    "# 打印当前加载的 libiomp5md.dll 路径\n",
    "dll_name = \"libiomp5md.dll\"\n",
    "\n",
    "for path in os.environ[\"PATH\"].split(os.pathsep):\n",
    "    dll_path = os.path.join(path, dll_name)\n",
    "    if os.path.exists(dll_path):\n",
    "        print(f\"Found {dll_name} at: {dll_path}\")\n",
    "\n",
    "# 检查 PyTorch 是否已经加载了 libiomp5md.dll\n",
    "try:\n",
    "    lib = ctypes.WinDLL(dll_name)\n",
    "    print(f\"{dll_name} is loaded from: {lib._handle}\")\n",
    "except Exception as e:\n",
    "    print(f\"{dll_name} is not loaded: {e}\")"
   ]
  },
  {
   "cell_type": "code",
   "execution_count": 2,
   "id": "71881916-43ec-4e9c-81c1-8d0d7539dd94",
   "metadata": {},
   "outputs": [
    {
     "name": "stdout",
     "output_type": "stream",
     "text": [
      "libiomp5md.dll is loaded from: C:\\Users\\47348\\anaconda3\\Lib\\site-packages\\torch\\lib\\libiomp5md.dll\n"
     ]
    }
   ],
   "source": [
    "import psutil\n",
    "import os\n",
    "\n",
    "# 获取当前进程\n",
    "process = psutil.Process(os.getpid())\n",
    "\n",
    "# 获取当前进程加载的所有 DLL 文件路径\n",
    "for dll in process.memory_maps():\n",
    "    if \"libiomp5md.dll\" in dll.path:\n",
    "        print(f\"libiomp5md.dll is loaded from: {dll.path}\")"
   ]
  },
  {
   "cell_type": "code",
   "execution_count": 3,
   "id": "3fdfc50a-f784-4fbe-aaa8-6e178abd4fdf",
   "metadata": {},
   "outputs": [
    {
     "name": "stdout",
     "output_type": "stream",
     "text": [
      "libiomp5md.dll is loaded from: C:\\Users\\47348\\anaconda3\\Lib\\site-packages\\torch\\lib\\libiomp5md.dll\n"
     ]
    }
   ],
   "source": [
    "import ctypes\n",
    "\n",
    "# 定义 Windows API 函数 GetModuleFileName\n",
    "kernel32 = ctypes.windll.kernel32\n",
    "GetModuleFileName = kernel32.GetModuleFileNameW\n",
    "GetModuleFileName.argtypes = [ctypes.c_void_p, ctypes.c_wchar_p, ctypes.c_uint]\n",
    "GetModuleFileName.restype = ctypes.c_uint\n",
    "\n",
    "# 使用 ctypes 获取加载的 DLL 文件路径\n",
    "buffer = ctypes.create_unicode_buffer(512)\n",
    "handle = ctypes.WinDLL(\"libiomp5md.dll\")\n",
    "GetModuleFileName(handle._handle, buffer, 512)\n",
    "print(f\"libiomp5md.dll is loaded from: {buffer.value}\")"
   ]
  },
  {
   "cell_type": "code",
   "execution_count": 4,
   "id": "87764a7d-4b21-44f3-bdf6-5fda7a97ef58",
   "metadata": {},
   "outputs": [
    {
     "name": "stdout",
     "output_type": "stream",
     "text": [
      "C:\\Users\\47348\\anaconda3\\Lib\\site-packages\\matplotlib\\__init__.py\n"
     ]
    }
   ],
   "source": [
    "import matplotlib\n",
    "print(matplotlib.__file__)"
   ]
  },
  {
   "cell_type": "code",
   "execution_count": 5,
   "id": "2db9ab1f-24d1-4694-9736-e0e336934540",
   "metadata": {},
   "outputs": [
    {
     "name": "stdout",
     "output_type": "stream",
     "text": [
      "D:\\Code\\JUPYTER_code\\neuralNetwork\n",
      "C:\\Users\\47348\\anaconda3\\python312.zip\n",
      "C:\\Users\\47348\\anaconda3\\DLLs\n",
      "C:\\Users\\47348\\anaconda3\\Lib\n",
      "C:\\Users\\47348\\anaconda3\n",
      "\n",
      "C:\\Users\\47348\\AppData\\Roaming\\Python\\Python312\\site-packages\n",
      "C:\\Users\\47348\\anaconda3\\Lib\\site-packages\n",
      "C:\\Users\\47348\\anaconda3\\Lib\\site-packages\\win32\n",
      "C:\\Users\\47348\\anaconda3\\Lib\\site-packages\\win32\\lib\n",
      "C:\\Users\\47348\\anaconda3\\Lib\\site-packages\\Pythonwin\n"
     ]
    }
   ],
   "source": [
    "import sys\n",
    "print(\"\\n\".join(sys.path))"
   ]
  },
  {
   "cell_type": "code",
   "execution_count": 6,
   "id": "d83010e2-d0f3-4975-a4ee-9d3a8471e823",
   "metadata": {},
   "outputs": [
    {
     "name": "stdout",
     "output_type": "stream",
     "text": [
      "['C:\\\\Users\\\\47348\\\\anaconda3', 'C:\\\\Users\\\\47348\\\\anaconda3\\\\Lib\\\\site-packages']\n",
      "C:\\Users\\47348\\AppData\\Roaming\\Python\\Python312\\site-packages\n"
     ]
    }
   ],
   "source": [
    "import site\n",
    "print(site.getsitepackages())  # 列出全局包路径\n",
    "print(site.getusersitepackages())  # 列出用户级包路径"
   ]
  }
 ],
 "metadata": {
  "kernelspec": {
   "display_name": "Python (deeplearning)",
   "language": "python",
   "name": "deeplearning"
  },
  "language_info": {
   "codemirror_mode": {
    "name": "ipython",
    "version": 3
   },
   "file_extension": ".py",
   "mimetype": "text/x-python",
   "name": "python",
   "nbconvert_exporter": "python",
   "pygments_lexer": "ipython3",
   "version": "3.12.7"
  }
 },
 "nbformat": 4,
 "nbformat_minor": 5
}
