{
 "cells": [
  {
   "cell_type": "code",
   "execution_count": 1,
   "id": "54c3594e-a5f9-4600-ae00-e1685158dae9",
   "metadata": {},
   "outputs": [],
   "source": [
    "import os\n",
    "import SimpleITK as sitk\n",
    "import numpy as np\n",
    "import matplotlib.pyplot as plt\n",
    "from ipywidgets import interact, IntSlider"
   ]
  },
  {
   "cell_type": "code",
   "execution_count": 2,
   "id": "84ba2d08-1cde-4453-9412-5f7d2e467b5f",
   "metadata": {},
   "outputs": [],
   "source": [
    "def load_dicom_series(folder_path):\n",
    "    # Load the DICOM series from the specified folder and return as a SimpleITK image.\n",
    "    reader = sitk.ImageSeriesReader()\n",
    "    dicom_names = reader.GetGDCMSeriesFileNames(folder_path)\n",
    "    if not dicom_names:\n",
    "        raise ValueError(f\"No DICOM files found in {folder_path}\")\n",
    "    reader.SetFileNames(dicom_names)\n",
    "    image = reader.Execute()\n",
    "    return image\n",
    "\n",
    "def normalize_image(image):\n",
    "    # Normalize the image to the range [0, 1].\n",
    "    img_array = sitk.GetArrayFromImage(image).astype(np.float32)\n",
    "    img_min = np.min(img_array)\n",
    "    img_max = np.max(img_array)\n",
    "    if img_max - img_min < 1e-5:\n",
    "        return np.zeros_like(img_array)\n",
    "    else:\n",
    "        return (img_array - img_min) / (img_max - img_min)"
   ]
  },
  {
   "cell_type": "code",
   "execution_count": 4,
   "id": "f7937114-94f0-44ee-a2af-d1557432904c",
   "metadata": {},
   "outputs": [
    {
     "name": "stdout",
     "output_type": "stream",
     "text": [
      "Loading CT image...\n",
      "Loading PET image...\n",
      "\n",
      "CT Image Information:\n",
      "  Size: (512, 512, 307)\n",
      "  Spacing: (0.9765625, 0.9765625, 2.5)\n",
      "  Origin: (-249.51172, -460.51172, -1007.0)\n",
      "  Direction: (1.0, 0.0, 0.0, 0.0, 1.0, 0.0, 0.0, 0.0, 1.0)\n",
      "  Dimension: 3\n",
      "\n",
      "PET Image Information:\n",
      "  Size: (128, 128, 307)\n",
      "  Spacing: (5.3067274, 5.3067274, 2.5)\n",
      "  Origin: (-339.16485, -553.64165, -1007.0)\n",
      "  Direction: (1.0, 0.0, 0.0, 0.0, 1.0, 0.0, 0.0, 0.0, 1.0)\n",
      "  Dimension: 3\n",
      "\n",
      "Starting registration...\n",
      "\n",
      "Registration completed.\n",
      "Optimizer Converged: GradientDescentOptimizerv4Template: Convergence checker passed at iteration 39.\n",
      "Final metric value: -0.352723439501319\n",
      "\n",
      "Resampling PET image to CT space...\n",
      "Resampling completed.\n"
     ]
    }
   ],
   "source": [
    "# ================== 1) Load CT and PET images ==================\n",
    "\n",
    "ct_folder_path = r\"D:\\NIH\\PET-CT\\acrin_nsclc_fdg_pet\\ACRIN-NSCLC-FDG-PET-001\\1.3.6.1.4.1.14519.5.2.1.7009.2403.156046015078185438233607422806\\CT_1.3.6.1.4.1.14519.5.2.1.7009.2403.192241118078441962132923230489\"\n",
    "pet_folder_path = r\"D:\\NIH\\PET-CT\\acrin_nsclc_fdg_pet\\ACRIN-NSCLC-FDG-PET-001\\1.3.6.1.4.1.14519.5.2.1.7009.2403.156046015078185438233607422806\\PT_1.3.6.1.4.1.14519.5.2.1.7009.2403.121694709831221676480030303736\"\n",
    "\n",
    "# Load images\n",
    "print(\"Loading CT image...\")\n",
    "ct_image = load_dicom_series(ct_folder_path)\n",
    "print(\"Loading PET image...\")\n",
    "pet_image = load_dicom_series(pet_folder_path)\n",
    "\n",
    "# Print image information\n",
    "def print_image_info(name, image):\n",
    "    print(f\"\\n{name} Image Information:\")\n",
    "    print(f\"  Size: {image.GetSize()}\")\n",
    "    print(f\"  Spacing: {image.GetSpacing()}\")\n",
    "    print(f\"  Origin: {image.GetOrigin()}\")\n",
    "    print(f\"  Direction: {image.GetDirection()}\")\n",
    "    print(f\"  Dimension: {image.GetDimension()}\")\n",
    "\n",
    "print_image_info(\"CT\", ct_image)\n",
    "print_image_info(\"PET\", pet_image)\n",
    "\n",
    "# Ensure both are 3D images\n",
    "if ct_image.GetDimension() != 3 or pet_image.GetDimension() != 3:\n",
    "    raise ValueError(\"Both CT and PET images must be 3D.\")\n",
    "\n",
    "# Ensure both images are float32\n",
    "ct_image = sitk.Cast(ct_image, sitk.sitkFloat32)\n",
    "pet_image = sitk.Cast(pet_image, sitk.sitkFloat32)\n",
    "\n",
    "# ================== 2) Register PET to CT ==================\n",
    "\n",
    "# Initialize the registration method\n",
    "registration_method = sitk.ImageRegistrationMethod()\n",
    "\n",
    "# Set multi-resolution strategy (recommended)\n",
    "registration_method.SetShrinkFactorsPerLevel(shrinkFactors = [4,2,1])\n",
    "registration_method.SetSmoothingSigmasPerLevel(smoothingSigmas=[2,1,0])\n",
    "registration_method.SmoothingSigmasAreSpecifiedInPhysicalUnitsOn()\n",
    "\n",
    "# Set the registration metric\n",
    "registration_method.SetMetricAsMattesMutualInformation(numberOfHistogramBins=50)\n",
    "registration_method.SetMetricSamplingStrategy(registration_method.RANDOM)\n",
    "registration_method.SetMetricSamplingPercentage(0.01)\n",
    "\n",
    "# Set the transformation type (rigid transformation)\n",
    "initial_transform = sitk.CenteredTransformInitializer(\n",
    "    ct_image,\n",
    "    pet_image,\n",
    "    sitk.Euler3DTransform(),\n",
    "    sitk.CenteredTransformInitializerFilter.GEOMETRY\n",
    ")\n",
    "\n",
    "registration_method.SetInitialTransform(initial_transform, inPlace=False)\n",
    "\n",
    "# Set the optimizer\n",
    "registration_method.SetOptimizerAsGradientDescent(learningRate=1.0, \n",
    "                                                  numberOfIterations=100, \n",
    "                                                  convergenceMinimumValue=1e-6, \n",
    "                                                  convergenceWindowSize=10)\n",
    "registration_method.SetOptimizerScalesFromPhysicalShift()\n",
    "\n",
    "# Set the interpolation method\n",
    "registration_method.SetInterpolator(sitk.sitkLinear)\n",
    "\n",
    "# Execute registration\n",
    "print(\"\\nStarting registration...\")\n",
    "try:\n",
    "    final_transform = registration_method.Execute(sitk.Cast(ct_image, sitk.sitkFloat32), \n",
    "                                                  sitk.Cast(pet_image, sitk.sitkFloat32))\n",
    "    \n",
    "    print(\"\\nRegistration completed.\")\n",
    "    print(\"Optimizer Converged:\", registration_method.GetOptimizerStopConditionDescription())\n",
    "    print(\"Final metric value:\", registration_method.GetMetricValue())\n",
    "except Exception as e:\n",
    "    print(f\"\\nRegistration failed: {e}\")\n",
    "    raise e\n",
    "\n",
    "# ================== 3) Resample PET image ==================\n",
    "\n",
    "resampler = sitk.ResampleImageFilter()\n",
    "resampler.SetReferenceImage(ct_image)\n",
    "resampler.SetInterpolator(sitk.sitkLinear)\n",
    "resampler.SetDefaultPixelValue(0)\n",
    "resampler.SetTransform(final_transform)\n",
    "\n",
    "print(\"\\nResampling PET image to CT space...\")\n",
    "pet_resampled = resampler.Execute(pet_image)\n",
    "print(\"Resampling completed.\")"
   ]
  },
  {
   "cell_type": "code",
   "execution_count": 5,
   "id": "bf49474c-fcf2-47be-9df4-0eaf38fbc37c",
   "metadata": {},
   "outputs": [
    {
     "data": {
      "application/vnd.jupyter.widget-view+json": {
       "model_id": "d782aa00cb8c42d7beb25f8fa8a464e2",
       "version_major": 2,
       "version_minor": 0
      },
      "text/plain": [
       "interactive(children=(IntSlider(value=153, description='slice_idx', max=306), Output()), _dom_classes=('widget…"
      ]
     },
     "metadata": {},
     "output_type": "display_data"
    },
    {
     "data": {
      "text/plain": [
       "<function __main__.show_fusion_slice(slice_idx)>"
      ]
     },
     "execution_count": 5,
     "metadata": {},
     "output_type": "execute_result"
    }
   ],
   "source": [
    "# ================== 4) Visualize fusion ==================\n",
    "\n",
    "def show_fusion_slice(slice_idx):\n",
    "    # Convert CT and resampled PET to NumPy arrays\n",
    "    ct_array = sitk.GetArrayFromImage(ct_image)        # shape: [slices, height, width]\n",
    "    pet_array = sitk.GetArrayFromImage(pet_resampled)  # shape: [slices, height, width]\n",
    "    \n",
    "    # Normalize\n",
    "    ct_norm = normalize_image(ct_image)\n",
    "    pet_norm = normalize_image(pet_resampled)\n",
    "    \n",
    "    # Get the minimum common shape\n",
    "    min_z = min(ct_norm.shape[0], pet_norm.shape[0])\n",
    "    min_y = min(ct_norm.shape[1], pet_norm.shape[1])\n",
    "    min_x = min(ct_norm.shape[2], pet_norm.shape[2])\n",
    "    \n",
    "    # Ensure slice_idx is within range\n",
    "    if slice_idx >= min_z:\n",
    "        slice_idx = min_z - 1\n",
    "    if slice_idx < 0:\n",
    "        slice_idx = 0\n",
    "    \n",
    "    ct_slice = ct_norm[slice_idx, :min_y, :min_x]\n",
    "    pet_slice = pet_norm[slice_idx, :min_y, :min_x]\n",
    "    \n",
    "    plt.figure(figsize=(8,8))\n",
    "    plt.imshow(ct_slice, cmap='gray', interpolation='none')\n",
    "    plt.imshow(pet_slice, cmap='jet', alpha=0.3, interpolation='none')\n",
    "    plt.title(f\"Fused Slice #{slice_idx+1}\")\n",
    "    plt.axis('off')\n",
    "    plt.show()\n",
    "\n",
    "num_slices = min(ct_image.GetSize()[2], pet_resampled.GetSize()[2])\n",
    "\n",
    "interact(show_fusion_slice, slice_idx=IntSlider(min=0, max=num_slices-1, step=1, value=num_slices//2))"
   ]
  },
  {
   "cell_type": "code",
   "execution_count": 6,
   "id": "cc411935-b261-45c9-ad8a-ccead28d9eb9",
   "metadata": {},
   "outputs": [
    {
     "data": {
      "application/vnd.jupyter.widget-view+json": {
       "model_id": "207e093bb7e24026bc093bb80a217609",
       "version_major": 2,
       "version_minor": 0
      },
      "text/plain": [
       "interactive(children=(IntSlider(value=153, description='slice_idx', max=306), Output()), _dom_classes=('widget…"
      ]
     },
     "metadata": {},
     "output_type": "display_data"
    },
    {
     "data": {
      "text/plain": [
       "<function __main__.show_fusion_slice(slice_idx)>"
      ]
     },
     "execution_count": 6,
     "metadata": {},
     "output_type": "execute_result"
    }
   ],
   "source": [
    "# ================== 4) Visualize fusion (faster version)==================\n",
    "\n",
    "# Preprocess images for faster visualization\n",
    "ct_array = sitk.GetArrayFromImage(ct_image)\n",
    "pet_array = sitk.GetArrayFromImage(pet_resampled)\n",
    "ct_norm = normalize_image(ct_image)\n",
    "pet_norm = normalize_image(pet_resampled)\n",
    "\n",
    "# Get the minimum common shape\n",
    "min_z = min(ct_norm.shape[0], pet_norm.shape[0])\n",
    "min_y = min(ct_norm.shape[1], pet_norm.shape[1])\n",
    "min_x = min(ct_norm.shape[2], pet_norm.shape[2])\n",
    "ct_norm = ct_norm[:min_z, :min_y, :min_x]\n",
    "pet_norm = pet_norm[:min_z, :min_y, :min_x]\n",
    "\n",
    "def show_fusion_slice(slice_idx):\n",
    "    # Ensure slice_idx is within range\n",
    "    slice_idx = max(0, min(slice_idx, min_z - 1))\n",
    "    \n",
    "    # Extract the slice\n",
    "    ct_slice = ct_norm[slice_idx]\n",
    "    pet_slice = pet_norm[slice_idx]\n",
    "    \n",
    "    # Plot the fused slice\n",
    "    plt.figure(figsize=(8, 8))\n",
    "    plt.imshow(ct_slice, cmap='gray', interpolation='none')\n",
    "    plt.imshow(pet_slice, cmap='jet', alpha=0.3, interpolation='none')\n",
    "    plt.title(f\"Fused Slice #{slice_idx + 1}\")\n",
    "    plt.axis('off')\n",
    "    plt.show()\n",
    "\n",
    "num_slices = min_z\n",
    "\n",
    "interact(show_fusion_slice, slice_idx=IntSlider(min=0, max=num_slices - 1, step=1, value=num_slices // 2))"
   ]
  }
 ],
 "metadata": {
  "kernelspec": {
   "display_name": "Python (reconstruction)",
   "language": "python",
   "name": "reconstruction"
  },
  "language_info": {
   "codemirror_mode": {
    "name": "ipython",
    "version": 3
   },
   "file_extension": ".py",
   "mimetype": "text/x-python",
   "name": "python",
   "nbconvert_exporter": "python",
   "pygments_lexer": "ipython3",
   "version": "3.9.20"
  }
 },
 "nbformat": 4,
 "nbformat_minor": 5
}
